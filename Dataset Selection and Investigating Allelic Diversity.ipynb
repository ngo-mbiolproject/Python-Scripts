{
 "cells": [
  {
   "cell_type": "code",
   "execution_count": null,
   "id": "95d1d32b",
   "metadata": {},
   "outputs": [],
   "source": [
    "# Import dependencies\n",
    "\n",
    "import csv\n",
    "import random #generates random numbers\n",
    "from collections import Counter #allows you to count frequency of elements in lists"
   ]
  },
  {
   "cell_type": "code",
   "execution_count": null,
   "id": "c5505b64",
   "metadata": {},
   "outputs": [],
   "source": [
    "# Creating empty lists to store data\n",
    "all_rows = [] \n",
    "columns = []\n",
    "loci = []\n",
    "\n",
    "# Import data csv file (f) in a read-only (r) fashion\n",
    "# with means opening data and then closing...\n",
    "with open('./idandsex.csv', 'r') as f:\n",
    "    reader = csv.reader(f, delimiter=',') # creates a csv reader object that interprets file (uses comma as separator)\n",
    "    # all_rows list will be a list of lists e.g. [[\"a\", \"b\", \"c\"], [\"d\", \"e\", \"f\"]] = [row, row... last row]\n",
    "    for i, row in enumerate(reader): # for every row in the excel file\n",
    "        if i == 0: #if the row is the very first row (index position 0)\n",
    "            loci = row[2:] #assign row (loci names) to loci variable (ignores first 2 columns - title of id and sex)\n",
    "        else:\n",
    "            all_rows.append(row) #anything that isnt the loci name row is appended to all_rows\n",
    "\n",
    "random.shuffle(all_rows) #randomly shuffles all rows\n",
    "\n",
    "# Creation of sex-balanced dataset\n",
    "sex_balanced_rows = [] #creates empty lists to store sex balanced rows - same number of males and females to make sure its balanced\n",
    "female_count = 0\n",
    "male_count = 0\n",
    "\n",
    "\n",
    "# Collect female isolates first as we know these are the limiting variable - we want all female isolates in sex-balanced rows\n",
    "for row in all_rows:\n",
    "    if row[1] == 'female': #if in column 1 it says female\n",
    "        sex_balanced_rows.append(row) #appending to sex balanced rows\n",
    "        female_count += 1 #female count + 1\n",
    "\n",
    "#There are more more males than females - execute the same counting and appending for male isolates\n",
    "for row in all_rows:\n",
    "    if male_count < female_count and row[1] == 'male': #if male count is below female count, we append it\n",
    "        #do not append further if male count is no longer less than female count (ie. equal)\n",
    "        sex_balanced_rows.append(row)\n",
    "        male_count += 1\n",
    "\n",
    "#Create a balanced dataset \n",
    "rows = sex_balanced_rows\n",
    "\n",
    "# create columns - [[\"a\", \"d\"], [\"b\", \"e\"], [\"c\", \"f\"]]\n",
    "for r, row in enumerate(rows):\n",
    "    for c, cell in enumerate(row): # iterate through all rows\n",
    "        if r == 0: # if first row, append a list containing the single value to the columns variable (create a column)\n",
    "            columns.append([cell])\n",
    "        else: # if anything but the first row, append the value of the cell to the existing column list\n",
    "            columns[c].append(cell)\n",
    "\n",
    "# remove id and sex columns from columns list\n",
    "ids = columns[0]\n",
    "sexes = columns[1]\n",
    "columns = columns[2:]\n",
    "\n",
    "columns_male = []\n",
    "columns_female = []\n",
    "\n",
    "for column in columns: # for each column in the columns list\n",
    "    columns_male.append([cell for i, cell in enumerate(column) if sexes[i] == 'male']) # extract all the values from male rows and assign to a male-only column\n",
    "    columns_female.append([cell for i, cell in enumerate(column) if sexes[i] == 'female']) # the same for females\n",
    "        "
   ]
  },
  {
   "cell_type": "code",
   "execution_count": null,
   "id": "c969a5c4",
   "metadata": {},
   "outputs": [],
   "source": [
    "#Count the number of unique alleles at each locus (male + female combined)\n",
    "unique_count = []\n",
    "unique_count_male = []\n",
    "unique_count_female = []\n",
    "\n",
    "for i in range(0, len(columns)): # for every column\n",
    "    unique_count.append( len(set(columns[i])) ) # find unique allele numbers (both male and female)\n",
    "    unique_count_male.append( len(set(columns_male[i])) ) # and males\n",
    "    unique_count_female.append( len(set(columns_female[i])) ) #  and for females"
   ]
  },
  {
   "cell_type": "code",
   "execution_count": null,
   "id": "5605e3a4",
   "metadata": {},
   "outputs": [],
   "source": [
    "for _ in unique_count_female:\n",
    "    print(_)\n",
    "\n",
    "    #repeat for unique_count_male \n",
    "    #repeat for unique_count (both m & f)\n"
   ]
  },
  {
   "cell_type": "code",
   "execution_count": null,
   "id": "936a2d9d",
   "metadata": {},
   "outputs": [],
   "source": [
    "# Count the sex differences in allele diversity at each locus\n",
    "# - Positive values indicate that the allele diversity is greater amongst males\n",
    "# - Negative values indicate that the allele diversity is greater amongst females\n",
    "# - Absolute delta = difference in the number of unique alleles at each locus between the sexes\n",
    "# - Relative delta = absolute delta scaled according to the total number of unique alleles at each locus\n",
    "#    - i.e. a difference of 5 is more significant if there are 10 unique alleles than if there are 100 unique alleles \n",
    "\n",
    "absolute_delta = []\n",
    "relative_delta = []\n",
    "\n",
    "for i in range(0, len(unique_count)):\n",
    "    # Uses count derived from a singular random sample of n males\n",
    "    # absolute_delta.append( unique_count_male[i] - unique_count_female[i] )\n",
    "    # relative_delta.append( absolute_delta[i] / unique_count[i] ) \n",
    "\n",
    "    # Uses average unique count for males derived from x permutations\n",
    "    absolute_delta.append( average_unique_count_male[i] - unique_count_female[i] )\n",
    "    relative_delta.append( absolute_delta[i] / unique_count[i] ) "
   ]
  }
 ],
 "metadata": {
  "kernelspec": {
   "display_name": "Python 3 (ipykernel)",
   "language": "python",
   "name": "python3"
  },
  "language_info": {
   "codemirror_mode": {
    "name": "ipython",
    "version": 3
   },
   "file_extension": ".py",
   "mimetype": "text/x-python",
   "name": "python",
   "nbconvert_exporter": "python",
   "pygments_lexer": "ipython3",
   "version": "3.9.13"
  }
 },
 "nbformat": 4,
 "nbformat_minor": 5
}
