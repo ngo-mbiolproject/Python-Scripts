{
 "cells": [
  {
   "cell_type": "code",
   "execution_count": null,
   "id": "9b6160da",
   "metadata": {},
   "outputs": [],
   "source": [
    "import pandas as pd \n",
    "import csv\n",
    "#read excel file into pandas dataframe \n",
    "df= pd.read_excel('GWAS1gender.xlsx')\n"
   ]
  },
  {
   "cell_type": "code",
   "execution_count": null,
   "id": "ac2bd518",
   "metadata": {},
   "outputs": [],
   "source": [
    "ksamples = []\n",
    "\n",
    "with open(r'C:\\Users\\X\\Python\\k_samples.csv', 'r') as f: \n",
    "    reader = csv.reader(f, delimiter=',')\n",
    "    for row in reader:\n",
    "        ksamples.append(row)\n",
    "        \n",
    "#define the array of numbers \n",
    "# array_of_numbers = [paste in k-sample id numbers] \n",
    "ksamples = [[int(n) for n in arr if n] for arr in ksamples]\n",
    "\n",
    "for array_of_numbers in ksamples:\n",
    "    #initialize counts for male and females \n",
    "    total_male = 0 \n",
    "    total_female = 0 \n",
    "\n",
    "    #Loop through the numbers in the array and count how many times each number is associated with \"sex\" \n",
    "    for number in array_of_numbers:\n",
    "        count_male= len(df[(df['id'] == number) & (df['sex'] == 'male')])\n",
    "        count_female= len(df[(df['id'] == number) & (df['sex'] == 'female')])\n",
    "        total_male += count_male \n",
    "        total_female += count_female\n",
    "#         print(f\"Number {number} is associated with {count_male} males and {count_female} females.\")\n",
    "\n",
    "    #print the total counts \n",
    "#     print (f\"Total number of males: {total_male}\")\n",
    "#     print(f\"Total number of females: {total_female}\")\n",
    "    print(f\"{total_male}, {total_female}\")"
   ]
  },
  {
   "cell_type": "code",
   "execution_count": null,
   "id": "11dd2d01",
   "metadata": {},
   "outputs": [],
   "source": [
    "#print the total counts \n",
    "print (f\"Total number of males: {total_male}\")\n",
    "print(f\"Total number of females: {total_female}\")"
   ]
  }
 ],
 "metadata": {
  "kernelspec": {
   "display_name": "Python 3 (ipykernel)",
   "language": "python",
   "name": "python3"
  },
  "language_info": {
   "codemirror_mode": {
    "name": "ipython",
    "version": 3
   },
   "file_extension": ".py",
   "mimetype": "text/x-python",
   "name": "python",
   "nbconvert_exporter": "python",
   "pygments_lexer": "ipython3",
   "version": "3.9.13"
  }
 },
 "nbformat": 4,
 "nbformat_minor": 5
}
